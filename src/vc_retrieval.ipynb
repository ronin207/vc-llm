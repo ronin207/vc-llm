{
    "cells": [
        {
            "cell_type": "markdown",
            "metadata": {},
            "source": [
                "# Verifiable Credentials RAG System\n",
                "\n",
                "This notebook demonstrates two different approaches to the VC RAG system:\n",
                "1. Basic RAG system (no conversation awareness)\n",
                "2. Conversational RAG system (with conversation awareness and follow-up suggestions)"
            ]
        },
        {
            "cell_type": "code",
            "execution_count": 1,
            "metadata": {},
            "outputs": [],
            "source": [
                "import os\n",
                "from dotenv import load_dotenv\n",
                "from langchain_openai import ChatOpenAI, OpenAIEmbeddings\n",
                "from langchain_chroma import Chroma\n",
                "from chains.vc_rag_system import VCRAGSystem\n",
                "from chains.conversational_vc_rag import ConversationalVCRAG\n",
                "from data.load_vc_data import load_vc_data\n",
                "from models.router import RouterConfig"
            ]
        },
        {
            "cell_type": "code",
            "execution_count": 2,
            "metadata": {},
            "outputs": [
                {
                    "data": {
                        "text/plain": [
                            "True"
                        ]
                    },
                    "execution_count": 2,
                    "metadata": {},
                    "output_type": "execute_result"
                }
            ],
            "source": [
                "# Load environment variables\n",
                "load_dotenv()"
            ]
        },
        {
            "cell_type": "code",
            "execution_count": 3,
            "metadata": {},
            "outputs": [
                {
                    "name": "stdout",
                    "output_type": "stream",
                    "text": [
                        "Loading Verifiable Credentials data...\n",
                        "Loaded 20 Verifiable Credentials into vector store.\n"
                    ]
                }
            ],
            "source": [
                "# Load VC data into vector store\n",
                "load_vc_data()\n",
                "\n",
                "# Initialize embeddings and vector store\n",
                "embeddings = OpenAIEmbeddings()\n",
                "vector_store = Chroma(\n",
                "    collection_name=\"vc_collection\",\n",
                "    embedding_function=embeddings,\n",
                "    persist_directory=\"./data/chroma_db\"\n",
                ")\n",
                "\n",
                "# Initialize router configuration\n",
                "router_config = RouterConfig(\n",
                "    model_name=\"gpt-4-turbo-preview\",\n",
                "    temperature=0.0,\n",
                "    max_tokens=150\n",
                ")"
            ]
        },
        {
            "cell_type": "markdown",
            "metadata": {},
            "source": [
                "## Select RAG System Type\n",
                "\n",
                "Choose whether to use the basic RAG system or the conversational RAG system:"
            ]
        },
        {
            "cell_type": "code",
            "execution_count": 4,
            "metadata": {},
            "outputs": [],
            "source": [
                "use_conversational = False  # Set to False for basic RAG system"
            ]
        },
        {
            "cell_type": "code",
            "execution_count": 5,
            "metadata": {},
            "outputs": [
                {
                    "name": "stdout",
                    "output_type": "stream",
                    "text": [
                        "\n",
                        "Testing VC RAG System:\n",
                        "==================================================\n",
                        "\n",
                        "Query: What is the passport number of the holder?\n",
                        "Response: I apologize, but I cannot find the information you're looking for in the Verifiable Credentials knowledge base.\n",
                        "Reasoning: The question asks for specific personal data (a passport number) of an individual, which cannot be provided by the Verifiable Credentials knowledge base due to privacy and data protection concerns.\n",
                        "Source: not_found\n",
                        "\n",
                        "Query: When was the university diploma issued?\n",
                        "Response: The university diploma was issued on 2025-05-19T09:06:55Z.\n",
                        "Reasoning: The question pertains to the issuance details of a university diploma, which can be verified through Verifiable Credentials as they are designed to provide proof of qualifications, including the issuance date.\n",
                        "Source: vc_knowledge_base\n",
                        "\n",
                        "Query: What is the credit score of the holder?\n",
                        "Response: I apologize, but I cannot find the information you're looking for in the Verifiable Credentials knowledge base.\n",
                        "Reasoning: The credit score of the holder is specific personal financial information that cannot be determined directly from the Verifiable Credentials knowledge base without specific, authorized access to such data.\n",
                        "Source: not_found\n",
                        "\n",
                        "Query: What is the membership type at Example Gym?\n",
                        "Response: I apologize, but I cannot find the information you're looking for in the Verifiable Credentials knowledge base.\n",
                        "Reasoning: The question about the membership type at Example Gym is specific to the policies or offerings of a particular business and is not related to the structure, issuance, or verification of Verifiable Credentials. Verifiable Credentials knowledge base is focused on the technology and standards for digital credentials that can prove information about individuals or entities, not the specific offerings of individual businesses.\n",
                        "Source: not_found\n",
                        "\n",
                        "Query: What is the event name and date for the ticket?\n",
                        "Response: I apologize, but I cannot find the information you're looking for in the Verifiable Credentials knowledge base.\n",
                        "Reasoning: The question asks for specific details (event name and date) on a ticket, which requires access to event-specific information or a database of events, not general knowledge about Verifiable Credentials.\n",
                        "Source: not_found\n",
                        "\n",
                        "Query: What is the weather like today?\n",
                        "Response: I apologize, but I cannot find the information you're looking for in the Verifiable Credentials knowledge base.\n",
                        "Reasoning: The question about the current weather cannot be answered using the Verifiable Credentials knowledge base because Verifiable Credentials are used for identity verification and do not provide real-time weather data.\n",
                        "Source: not_found\n"
                    ]
                }
            ],
            "source": [
                "if use_conversational:\n",
                "    # Initialize conversational VC RAG system\n",
                "    vc_rag = ConversationalVCRAG(\n",
                "        vector_store=vector_store,\n",
                "        router_config=router_config,\n",
                "        generation_model_name=\"gpt-4-turbo-preview\",\n",
                "        generation_temperature=0.0\n",
                "    )\n",
                "    \n",
                "    print(\"\\nConversational VC RAG System\")\n",
                "    print(\"=\" * 50)\n",
                "    print(\"Type 'exit' to quit, 'suggest' for follow-up questions\")\n",
                "    \n",
                "    while True:\n",
                "        # Get user input\n",
                "        question = input(\"\\nYour question: \").strip()\n",
                "        \n",
                "        if question.lower() == 'exit':\n",
                "            break\n",
                "            \n",
                "        if question.lower() == 'suggest':\n",
                "            # Get follow-up suggestions\n",
                "            suggestions = vc_rag.get_follow_up_suggestions()\n",
                "            if suggestions:\n",
                "                print(\"\\nSuggested follow-up questions:\")\n",
                "                for i, suggestion in enumerate(suggestions, 1):\n",
                "                    print(f\"{i}. {suggestion}\")\n",
                "            else:\n",
                "                print(\"\\nNo suggestions available. Ask a question first!\")\n",
                "            continue\n",
                "        \n",
                "        # Process the question\n",
                "        response = vc_rag.process_query(question)\n",
                "        \n",
                "        # Print the response\n",
                "        print(\"\\nAnswer:\", response[\"answer\"])\n",
                "        print(\"\\nReasoning:\", response[\"reasoning\"])\n",
                "        print(\"\\nSource:\", response[\"source\"])\n",
                "        \n",
                "        # If we have source documents, suggest follow-ups\n",
                "        if response[\"source\"] == \"vc_knowledge_base\":\n",
                "            print(\"\\nYou can type 'suggest' to see follow-up questions!\")\n",
                "else:\n",
                "    # Initialize basic VC RAG system\n",
                "    vc_rag = VCRAGSystem(\n",
                "        vector_store=vector_store,\n",
                "        router_config=router_config,\n",
                "        generation_model_name=\"gpt-4-turbo-preview\",\n",
                "        generation_temperature=0.0\n",
                "    )\n",
                "    \n",
                "    # Test queries\n",
                "    test_queries = [\n",
                "        \"What is the passport number of the holder?\",\n",
                "        \"When was the university diploma issued?\",\n",
                "        \"What is the credit score of the holder?\",\n",
                "        \"What is the membership type at Example Gym?\",\n",
                "        \"What is the event name and date for the ticket?\",\n",
                "        \"What is the weather like today?\",  # This should return \"not found\"\n",
                "    ]\n",
                "    \n",
                "    print(\"\\nTesting VC RAG System:\")\n",
                "    print(\"=\" * 50)\n",
                "    \n",
                "    for query in test_queries:\n",
                "        print(f\"\\nQuery: {query}\")\n",
                "        response = vc_rag.answer(query)\n",
                "        print(f\"Response: {response['answer']}\")\n",
                "        print(f\"Reasoning: {response['reasoning']}\")\n",
                "        print(f\"Source: {response['source']}\")"
            ]
        }
    ],
    "metadata": {
        "kernelspec": {
            "display_name": "venv",
            "language": "python",
            "name": "python3"
        },
        "language_info": {
            "codemirror_mode": {
                "name": "ipython",
                "version": 3
            },
            "file_extension": ".py",
            "mimetype": "text/x-python",
            "name": "python",
            "nbconvert_exporter": "python",
            "pygments_lexer": "ipython3",
            "version": "3.13.3"
        }
    },
    "nbformat": 4,
    "nbformat_minor": 4
}
